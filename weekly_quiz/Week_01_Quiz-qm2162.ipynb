{
 "cells": [
  {
   "cell_type": "code",
   "execution_count": 1,
   "metadata": {},
   "outputs": [
    {
     "name": "stdout",
     "output_type": "stream",
     "text": [
      "python version: 3.8.10 | packaged by conda-forge | (default, May 10 2021, 22:58:09) \n",
      "[Clang 11.1.0 ]\n",
      "pandas version: 1.3.3\n",
      "sklearn version: 0.24.2\n",
      "pandas path: ['/Users/mengqi/opt/anaconda3/envs/eods-f21/lib/python3.8/site-packages/pandas']\n"
     ]
    }
   ],
   "source": [
    "import sys\n",
    "import pandas\n",
    "import sklearn\n",
    "print('python version:',sys.version)\n",
    "print('pandas version:',pandas.__version__)\n",
    "print('sklearn version:',sklearn.__version__)\n",
    "print('pandas path:',pandas.__path__)\n"
   ]
  }
 ],
 "metadata": {
  "kernelspec": {
   "display_name": "eods-f21",
   "language": "python",
   "name": "eods-f21"
  },
  "language_info": {
   "codemirror_mode": {
    "name": "ipython",
    "version": 3
   },
   "file_extension": ".py",
   "mimetype": "text/x-python",
   "name": "python",
   "nbconvert_exporter": "python",
   "pygments_lexer": "ipython3",
   "version": "3.8.10"
  }
 },
 "nbformat": 4,
 "nbformat_minor": 4
}
