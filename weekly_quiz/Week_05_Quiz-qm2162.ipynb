{
 "cells": [
  {
   "cell_type": "markdown",
   "metadata": {},
   "source": [
    "# Week 5 Quiz\n",
    "\n",
    "## Qi Meng - qm2162\n",
    "\n",
    "### Due Sunday Oct 17th, 11:59pm"
   ]
  },
  {
   "cell_type": "code",
   "execution_count": 1,
   "metadata": {},
   "outputs": [],
   "source": [
    "import pandas as pd\n",
    "import numpy as np\n",
    "import matplotlib.pyplot as plt\n",
    "import seaborn as sns\n",
    "\n",
    "sns.set_style('darkgrid')\n",
    "%matplotlib inline"
   ]
  },
  {
   "cell_type": "code",
   "execution_count": 2,
   "metadata": {},
   "outputs": [
    {
     "data": {
      "text/html": [
       "<div>\n",
       "<style scoped>\n",
       "    .dataframe tbody tr th:only-of-type {\n",
       "        vertical-align: middle;\n",
       "    }\n",
       "\n",
       "    .dataframe tbody tr th {\n",
       "        vertical-align: top;\n",
       "    }\n",
       "\n",
       "    .dataframe thead th {\n",
       "        text-align: right;\n",
       "    }\n",
       "</style>\n",
       "<table border=\"1\" class=\"dataframe\">\n",
       "  <thead>\n",
       "    <tr style=\"text-align: right;\">\n",
       "      <th></th>\n",
       "      <th>Chins</th>\n",
       "      <th>Situps</th>\n",
       "      <th>Jumps</th>\n",
       "      <th>Weight</th>\n",
       "    </tr>\n",
       "  </thead>\n",
       "  <tbody>\n",
       "    <tr>\n",
       "      <th>0</th>\n",
       "      <td>5.0</td>\n",
       "      <td>162.0</td>\n",
       "      <td>60.0</td>\n",
       "      <td>191.0</td>\n",
       "    </tr>\n",
       "    <tr>\n",
       "      <th>1</th>\n",
       "      <td>2.0</td>\n",
       "      <td>110.0</td>\n",
       "      <td>60.0</td>\n",
       "      <td>189.0</td>\n",
       "    </tr>\n",
       "    <tr>\n",
       "      <th>2</th>\n",
       "      <td>12.0</td>\n",
       "      <td>101.0</td>\n",
       "      <td>101.0</td>\n",
       "      <td>193.0</td>\n",
       "    </tr>\n",
       "  </tbody>\n",
       "</table>\n",
       "</div>"
      ],
      "text/plain": [
       "   Chins  Situps  Jumps  Weight\n",
       "0    5.0   162.0   60.0   191.0\n",
       "1    2.0   110.0   60.0   189.0\n",
       "2   12.0   101.0  101.0   193.0"
      ]
     },
     "execution_count": 2,
     "metadata": {},
     "output_type": "execute_result"
    }
   ],
   "source": [
    "# Sklearn provides a set of commonly used example datasets. \n",
    "# They can be accessed through the datasets submodule.\n",
    "from sklearn import datasets\n",
    "\n",
    "# We're going to use the Linnerud dataset to practice Regression in sklearn.\n",
    "\n",
    "# The Linnerud dataset is a tiny multi-output regression dataset. It consists \n",
    "# of three excercise (data) and three physiological (target) variables \n",
    "# collected from twenty middle-aged men in a fitness club.\n",
    "linnerud = datasets.load_linnerud()\n",
    "\n",
    "# The features of the dataset contain data on 3 exercises\n",
    "# Chins - number of chinups\n",
    "# Situps - number of situps\n",
    "# Jumps - number of jumping jacks\n",
    "\n",
    "# Note that the features and target come as numpy matrices.\n",
    "# We'll first load the features into a pandas dataframe.\n",
    "df = pd.DataFrame(linnerud.data,columns=linnerud.feature_names)\n",
    "\n",
    "# We'll also add the target to our dataframe.\n",
    "# Note also that this dataset contains multiple targets.\n",
    "# We'll only consider one of them: Weight\n",
    "df['Weight'] = linnerud.target[:,linnerud.target_names.index('Weight')]\n",
    "\n",
    "# For more information on the dataset, uncomment the print command below\n",
    "#print(linnerud.DESCR)\n",
    "\n",
    "# print the first 3 rows\n",
    "df.head(3)"
   ]
  },
  {
   "cell_type": "code",
   "execution_count": 3,
   "metadata": {},
   "outputs": [
    {
     "data": {
      "text/plain": [
       "<AxesSubplot:xlabel='Situps', ylabel='Weight'>"
      ]
     },
     "execution_count": 3,
     "metadata": {},
     "output_type": "execute_result"
    },
    {
     "data": {
      "image/png": "[encoded data removed]",
      "text/plain": [
       "<Figure size 432x288 with 1 Axes>"
      ]
     },
     "metadata": {
      "needs_background": "light"
     },
     "output_type": "display_data"
    }
   ],
   "source": [
    "# What is the relationship between Situps and Weight?\n",
    "\n",
    "# Plot a scatterplot and best-fit line for x=Situps vs y=Weight\n",
    "#    using seaborn sns.regplot()\n",
    "sns.regplot(x='Situps', y='Weight', data=df)"
   ]
  },
  {
   "cell_type": "code",
   "execution_count": 4,
   "metadata": {},
   "outputs": [
    {
     "name": "stdout",
     "output_type": "stream",
     "text": [
      "We expect Weight to go down by 0.19 when Situps goes up by 1.\n",
      "We should expect weight to be 206.92 when Situps is 0.\n"
     ]
    }
   ],
   "source": [
    "# The above plot should indicate a negative relationship \n",
    "#    between Situps and Weight\n",
    "# How much does Weight go down if Situps goes up?\n",
    "# To answer this we'll train a simple linear model.\n",
    "\n",
    "# First import LinearRegression from sklearn.linear_model\n",
    "from sklearn.linear_model import LinearRegression \n",
    "\n",
    "# Create a variable X containing the independent variable 'Situps'\n",
    "# Note that sklearn expects X to be two dimensional\n",
    "#   so you must use one of the methods discussed in class\n",
    "#   to return a two dimensional object\n",
    "X = df.Situps.values.reshape(-1, 1)\n",
    "\n",
    "# Create a variable y containing the dependent variable 'Weight'\n",
    "# Note that y should only be one dimensional, \n",
    "#    so a Series (single column of a dataframe) works fine here\n",
    "y = df.Weight\n",
    "\n",
    "# Instantiate a LinearRegression object with default parameter settings\n",
    "#   and store as lr\n",
    "lr = LinearRegression()\n",
    "\n",
    "# Fit lr using the X and y defined above\n",
    "lr.fit(X=X, y=y)\n",
    "\n",
    "# Using the learned parameters in coef_ and intercept_, \n",
    "#   by how much do we expect Weight to go down when Situps goes up by 1?\n",
    "# Print with a precision of 2\n",
    "print(f\"We expect Weight to go down by {np.abs(lr.coef_[0]):0.2f} when Situps goes up by 1.\")\n",
    "\n",
    "# Using the learned parameters in coef_ and intercept_, \n",
    "#   what should we expect weight to be when when Situps is 0?\n",
    "# Print with a precision of 2\n",
    "print(f\"We should expect weight to be {lr.intercept_:0.2f} when Situps is 0.\")"
   ]
  },
  {
   "cell_type": "code",
   "execution_count": 5,
   "metadata": {},
   "outputs": [
    {
     "name": "stdout",
     "output_type": "stream",
     "text": [
      "Chins      : -0.48\n",
      "Situps     : -0.22\n",
      "Jumps      : 0.09\n"
     ]
    }
   ],
   "source": [
    "# How is Weight related to all 3 features?\n",
    "\n",
    "# Create a list containing the 3 feature names we're interested in \n",
    "#    as strings: Chins, Situps, Jumps\n",
    "# Store as feature_names\n",
    "# We'll do this to make sure we don't include 'Weight' in the \n",
    "#    regression as an independent variable\n",
    "feature_names = ['Chins', 'Situps', 'Jumps']\n",
    "\n",
    "# Instantiate a second LinearRegression model with default parameters\n",
    "#    and store as mlr\n",
    "# Fit this model using all of the columns in feature_names\n",
    "# Note that here we can pass the 2D dataframe without needing to .reshape(), etc.\n",
    "mlr = LinearRegression()\n",
    "mlr.fit(df[feature_names], y=y)\n",
    "\n",
    "# For each feature name in feature_names, print out the name and \n",
    "#    corresponding learned coefficient\n",
    "# It looks like one of the features actually has a positive relationship. \n",
    "# Print coefficient values with a precision of 2.\n",
    "for (name, coef) in zip(feature_names, mlr.coef_):\n",
    "    print(f'{name:10s} : {coef:0.2f}')"
   ]
  },
  {
   "cell_type": "code",
   "execution_count": 6,
   "metadata": {},
   "outputs": [
    {
     "name": "stderr",
     "output_type": "stream",
     "text": [
      "/Users/mengqi/opt/anaconda3/envs/eods-f21/lib/python3.8/site-packages/statsmodels/tsa/tsatools.py:142: FutureWarning: In a future version of pandas all arguments of concat except for the argument 'objs' will be keyword-only\n",
      "  x = pd.concat(x[::order], 1)\n"
     ]
    },
    {
     "data": {
      "text/html": [
       "<table class=\"simpletable\">\n",
       "<caption>OLS Regression Results</caption>\n",
       "<tr>\n",
       "  <th>Dep. Variable:</th>         <td>Weight</td>      <th>  R-squared (uncentered):</th>      <td>   0.791</td>\n",
       "</tr>\n",
       "<tr>\n",
       "  <th>Model:</th>                   <td>OLS</td>       <th>  Adj. R-squared (uncentered):</th> <td>   0.755</td>\n",
       "</tr>\n",
       "<tr>\n",
       "  <th>Method:</th>             <td>Least Squares</td>  <th>  F-statistic:       </th>          <td>   21.50</td>\n",
       "</tr>\n",
       "<tr>\n",
       "  <th>Date:</th>             <td>Wed, 13 Oct 2021</td> <th>  Prob (F-statistic):</th>          <td>5.07e-06</td>\n",
       "</tr>\n",
       "<tr>\n",
       "  <th>Time:</th>                 <td>03:40:45</td>     <th>  Log-Likelihood:    </th>          <td> -116.59</td>\n",
       "</tr>\n",
       "<tr>\n",
       "  <th>No. Observations:</th>      <td>    20</td>      <th>  AIC:               </th>          <td>   239.2</td>\n",
       "</tr>\n",
       "<tr>\n",
       "  <th>Df Residuals:</th>          <td>    17</td>      <th>  BIC:               </th>          <td>   242.2</td>\n",
       "</tr>\n",
       "<tr>\n",
       "  <th>Df Model:</th>              <td>     3</td>      <th>                     </th>              <td> </td>   \n",
       "</tr>\n",
       "<tr>\n",
       "  <th>Covariance Type:</th>      <td>nonrobust</td>    <th>                     </th>              <td> </td>   \n",
       "</tr>\n",
       "</table>\n",
       "<table class=\"simpletable\">\n",
       "<tr>\n",
       "     <td></td>       <th>coef</th>     <th>std err</th>      <th>t</th>      <th>P>|t|</th>  <th>[0.025</th>    <th>0.975]</th>  \n",
       "</tr>\n",
       "<tr>\n",
       "  <th>Chins</th>  <td>    1.6422</td> <td>    5.376</td> <td>    0.305</td> <td> 0.764</td> <td>   -9.701</td> <td>   12.985</td>\n",
       "</tr>\n",
       "<tr>\n",
       "  <th>Situps</th> <td>    0.9735</td> <td>    0.442</td> <td>    2.201</td> <td> 0.042</td> <td>    0.041</td> <td>    1.906</td>\n",
       "</tr>\n",
       "<tr>\n",
       "  <th>Jumps</th>  <td>   -0.1295</td> <td>    0.535</td> <td>   -0.242</td> <td> 0.812</td> <td>   -1.259</td> <td>    1.000</td>\n",
       "</tr>\n",
       "</table>\n",
       "<table class=\"simpletable\">\n",
       "<tr>\n",
       "  <th>Omnibus:</th>       <td> 0.243</td> <th>  Durbin-Watson:     </th> <td>   1.462</td>\n",
       "</tr>\n",
       "<tr>\n",
       "  <th>Prob(Omnibus):</th> <td> 0.886</td> <th>  Jarque-Bera (JB):  </th> <td>   0.412</td>\n",
       "</tr>\n",
       "<tr>\n",
       "  <th>Skew:</th>          <td> 0.185</td> <th>  Prob(JB):          </th> <td>   0.814</td>\n",
       "</tr>\n",
       "<tr>\n",
       "  <th>Kurtosis:</th>      <td> 2.402</td> <th>  Cond. No.          </th> <td>    47.8</td>\n",
       "</tr>\n",
       "</table><br/><br/>Notes:<br/>[1] R² is computed without centering (uncentered) since the model does not contain a constant.<br/>[2] Standard Errors assume that the covariance matrix of the errors is correctly specified."
      ],
      "text/plain": [
       "<class 'statsmodels.iolib.summary.Summary'>\n",
       "\"\"\"\n",
       "                                 OLS Regression Results                                \n",
       "=======================================================================================\n",
       "Dep. Variable:                 Weight   R-squared (uncentered):                   0.791\n",
       "Model:                            OLS   Adj. R-squared (uncentered):              0.755\n",
       "Method:                 Least Squares   F-statistic:                              21.50\n",
       "Date:                Wed, 13 Oct 2021   Prob (F-statistic):                    5.07e-06\n",
       "Time:                        03:40:45   Log-Likelihood:                         -116.59\n",
       "No. Observations:                  20   AIC:                                      239.2\n",
       "Df Residuals:                      17   BIC:                                      242.2\n",
       "Df Model:                           3                                                  \n",
       "Covariance Type:            nonrobust                                                  \n",
       "==============================================================================\n",
       "                 coef    std err          t      P>|t|      [0.025      0.975]\n",
       "------------------------------------------------------------------------------\n",
       "Chins          1.6422      5.376      0.305      0.764      -9.701      12.985\n",
       "Situps         0.9735      0.442      2.201      0.042       0.041       1.906\n",
       "Jumps         -0.1295      0.535     -0.242      0.812      -1.259       1.000\n",
       "==============================================================================\n",
       "Omnibus:                        0.243   Durbin-Watson:                   1.462\n",
       "Prob(Omnibus):                  0.886   Jarque-Bera (JB):                0.412\n",
       "Skew:                           0.185   Prob(JB):                        0.814\n",
       "Kurtosis:                       2.402   Cond. No.                         47.8\n",
       "==============================================================================\n",
       "\n",
       "Notes:\n",
       "[1] R² is computed without centering (uncentered) since the model does not contain a constant.\n",
       "[2] Standard Errors assume that the covariance matrix of the errors is correctly specified.\n",
       "\"\"\""
      ]
     },
     "execution_count": 6,
     "metadata": {},
     "output_type": "execute_result"
    }
   ],
   "source": [
    "# NOT REQUIRED\n",
    "\n",
    "# For those that are interested exploring how statsmodels works\n",
    "\n",
    "# Import the statsmodels api as sm\n",
    "import statsmodels.api as sm\n",
    "\n",
    "# Store the 3 features from df as X\n",
    "X = df[feature_names].copy()\n",
    "\n",
    "# Add a constant to X (in order to learn the bias term) using sm.add_constant()\n",
    "sm.add_constant(X)\n",
    "\n",
    "\n",
    "# Instantiate and fit an OLS model using X and df.Weight as y \n",
    "#   and store as sm_model\n",
    "# Note that in OLS, the target y is the first parameter!\n",
    "sm_model = sm.OLS(y, X).fit()\n",
    "\n",
    "# Display the model summary\n",
    "# Note that the coefficients in the summary match the values\n",
    "#    found above using sklearn\n",
    "sm_model.summary()"
   ]
  }
 ],
 "metadata": {
  "kernelspec": {
   "display_name": "eods-f21",
   "language": "python",
   "name": "eods-f21"
  },
  "language_info": {
   "codemirror_mode": {
    "name": "ipython",
    "version": 3
   },
   "file_extension": ".py",
   "mimetype": "text/x-python",
   "name": "python",
   "nbconvert_exporter": "python",
   "pygments_lexer": "ipython3",
   "version": "3.8.10"
  }
 },
 "nbformat": 4,
 "nbformat_minor": 4
}
