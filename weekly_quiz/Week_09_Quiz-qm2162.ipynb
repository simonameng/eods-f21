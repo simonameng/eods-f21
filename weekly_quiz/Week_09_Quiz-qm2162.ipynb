{
 "cells": [
  {
   "cell_type": "markdown",
   "metadata": {
    "slideshow": {
     "slide_type": "subslide"
    }
   },
   "source": [
    "# Week 9 Quiz\n",
    "\n",
    "## Qi Meng- qm2162\n",
    "\n",
    "### Due Sun. Nov 21st, 11:59pm"
   ]
  },
  {
   "cell_type": "markdown",
   "metadata": {},
   "source": [
    "In this quiz we'll practice scaling data and using PCA for dimensionality reduction."
   ]
  },
  {
   "cell_type": "markdown",
   "metadata": {},
   "source": [
    "### Load Standard Libraries"
   ]
  },
  {
   "cell_type": "code",
   "execution_count": 1,
   "metadata": {},
   "outputs": [],
   "source": [
    "# Import numpy, pandas, matplotlib.pyplot and seaborn\n",
    "import pandas as pd\n",
    "import numpy as np\n",
    "import matplotlib.pyplot as plt\n",
    "import seaborn as sns\n",
    "\n",
    "# Set matplotlib to display inline\n",
    "%matplotlib inline"
   ]
  },
  {
   "cell_type": "markdown",
   "metadata": {},
   "source": [
    "### Load the Dataset"
   ]
  },
  {
   "cell_type": "code",
   "execution_count": 2,
   "metadata": {},
   "outputs": [],
   "source": [
    "# Import the datasets submodule from sklearn.\n",
    "from sklearn import datasets\n",
    "\n",
    "# Load the breast cancer dataset using the load_breast_cancer() function.\n",
    "# Store in the variable 'cancer'.\n",
    "cancer = datasets.load_breast_cancer()\n",
    "\n",
    "# Create a new dataframe df with values from cancer.data (which is stored as a numpy array)\n",
    "#    and with columns named using cancer.feature_names (also a numpy array)\n",
    "df = pd.DataFrame(cancer.data, columns=cancer.feature_names)\n",
    "\n",
    "# For this quiz, only keep the first 15 features/columns\n",
    "# Store the result back into df\n",
    "df = df.iloc[:,:15]\n",
    "\n",
    "# Assert that the shape of the dataframe is (569,15): 569 columns, 15 rows\n",
    "assert df.shape == (569,15)"
   ]
  },
  {
   "cell_type": "markdown",
   "metadata": {},
   "source": [
    "### Calculate Summary Stats"
   ]
  },
  {
   "cell_type": "code",
   "execution_count": 3,
   "metadata": {},
   "outputs": [
    {
     "data": {
      "text/html": [
       "<div>\n",
       "<style scoped>\n",
       "    .dataframe tbody tr th:only-of-type {\n",
       "        vertical-align: middle;\n",
       "    }\n",
       "\n",
       "    .dataframe tbody tr th {\n",
       "        vertical-align: top;\n",
       "    }\n",
       "\n",
       "    .dataframe thead th {\n",
       "        text-align: right;\n",
       "    }\n",
       "</style>\n",
       "<table border=\"1\" class=\"dataframe\">\n",
       "  <thead>\n",
       "    <tr style=\"text-align: right;\">\n",
       "      <th></th>\n",
       "      <th>mean radius</th>\n",
       "      <th>mean texture</th>\n",
       "      <th>mean perimeter</th>\n",
       "      <th>mean area</th>\n",
       "      <th>mean smoothness</th>\n",
       "      <th>mean compactness</th>\n",
       "      <th>mean concavity</th>\n",
       "      <th>mean concave points</th>\n",
       "      <th>mean symmetry</th>\n",
       "      <th>mean fractal dimension</th>\n",
       "      <th>radius error</th>\n",
       "      <th>texture error</th>\n",
       "      <th>perimeter error</th>\n",
       "      <th>area error</th>\n",
       "      <th>smoothness error</th>\n",
       "    </tr>\n",
       "  </thead>\n",
       "  <tbody>\n",
       "    <tr>\n",
       "      <th>mean</th>\n",
       "      <td>14.127292</td>\n",
       "      <td>19.289649</td>\n",
       "      <td>91.969033</td>\n",
       "      <td>654.889104</td>\n",
       "      <td>0.096360</td>\n",
       "      <td>0.104341</td>\n",
       "      <td>0.088799</td>\n",
       "      <td>0.048919</td>\n",
       "      <td>0.181162</td>\n",
       "      <td>0.062798</td>\n",
       "      <td>0.405172</td>\n",
       "      <td>1.216853</td>\n",
       "      <td>2.866059</td>\n",
       "      <td>40.337079</td>\n",
       "      <td>0.007041</td>\n",
       "    </tr>\n",
       "    <tr>\n",
       "      <th>std</th>\n",
       "      <td>3.524049</td>\n",
       "      <td>4.301036</td>\n",
       "      <td>24.298981</td>\n",
       "      <td>351.914129</td>\n",
       "      <td>0.014064</td>\n",
       "      <td>0.052813</td>\n",
       "      <td>0.079720</td>\n",
       "      <td>0.038803</td>\n",
       "      <td>0.027414</td>\n",
       "      <td>0.007060</td>\n",
       "      <td>0.277313</td>\n",
       "      <td>0.551648</td>\n",
       "      <td>2.021855</td>\n",
       "      <td>45.491006</td>\n",
       "      <td>0.003003</td>\n",
       "    </tr>\n",
       "  </tbody>\n",
       "</table>\n",
       "</div>"
      ],
      "text/plain": [
       "      mean radius  mean texture  mean perimeter   mean area  mean smoothness  \\\n",
       "mean    14.127292     19.289649       91.969033  654.889104         0.096360   \n",
       "std      3.524049      4.301036       24.298981  351.914129         0.014064   \n",
       "\n",
       "      mean compactness  mean concavity  mean concave points  mean symmetry  \\\n",
       "mean          0.104341        0.088799             0.048919       0.181162   \n",
       "std           0.052813        0.079720             0.038803       0.027414   \n",
       "\n",
       "      mean fractal dimension  radius error  texture error  perimeter error  \\\n",
       "mean                0.062798      0.405172       1.216853         2.866059   \n",
       "std                 0.007060      0.277313       0.551648         2.021855   \n",
       "\n",
       "      area error  smoothness error  \n",
       "mean   40.337079          0.007041  \n",
       "std    45.491006          0.003003  "
      ]
     },
     "execution_count": 3,
     "metadata": {},
     "output_type": "execute_result"
    }
   ],
   "source": [
    "# The distribution of features in this dataset vary quite a bit, affecting PCA performance.\n",
    "# To get a sense of the difference, display the mean and standard deviation of each feature.\n",
    "# Use the .agg() function, which takes a list of strings describing the functions to apply.\n",
    "# Call .agg() on df using 'mean' and 'std'\n",
    "df.agg(['mean', 'std'])"
   ]
  },
  {
   "cell_type": "code",
   "execution_count": 4,
   "metadata": {},
   "outputs": [
    {
     "data": {
      "text/html": [
       "<div>\n",
       "<style scoped>\n",
       "    .dataframe tbody tr th:only-of-type {\n",
       "        vertical-align: middle;\n",
       "    }\n",
       "\n",
       "    .dataframe tbody tr th {\n",
       "        vertical-align: top;\n",
       "    }\n",
       "\n",
       "    .dataframe thead th {\n",
       "        text-align: right;\n",
       "    }\n",
       "</style>\n",
       "<table border=\"1\" class=\"dataframe\">\n",
       "  <thead>\n",
       "    <tr style=\"text-align: right;\">\n",
       "      <th></th>\n",
       "      <th>mean</th>\n",
       "      <th>std</th>\n",
       "    </tr>\n",
       "  </thead>\n",
       "  <tbody>\n",
       "    <tr>\n",
       "      <th>mean radius</th>\n",
       "      <td>14.127292</td>\n",
       "      <td>3.524049</td>\n",
       "    </tr>\n",
       "    <tr>\n",
       "      <th>mean texture</th>\n",
       "      <td>19.289649</td>\n",
       "      <td>4.301036</td>\n",
       "    </tr>\n",
       "    <tr>\n",
       "      <th>mean perimeter</th>\n",
       "      <td>91.969033</td>\n",
       "      <td>24.298981</td>\n",
       "    </tr>\n",
       "    <tr>\n",
       "      <th>mean area</th>\n",
       "      <td>654.889104</td>\n",
       "      <td>351.914129</td>\n",
       "    </tr>\n",
       "    <tr>\n",
       "      <th>mean smoothness</th>\n",
       "      <td>0.096360</td>\n",
       "      <td>0.014064</td>\n",
       "    </tr>\n",
       "    <tr>\n",
       "      <th>mean compactness</th>\n",
       "      <td>0.104341</td>\n",
       "      <td>0.052813</td>\n",
       "    </tr>\n",
       "    <tr>\n",
       "      <th>mean concavity</th>\n",
       "      <td>0.088799</td>\n",
       "      <td>0.079720</td>\n",
       "    </tr>\n",
       "    <tr>\n",
       "      <th>mean concave points</th>\n",
       "      <td>0.048919</td>\n",
       "      <td>0.038803</td>\n",
       "    </tr>\n",
       "    <tr>\n",
       "      <th>mean symmetry</th>\n",
       "      <td>0.181162</td>\n",
       "      <td>0.027414</td>\n",
       "    </tr>\n",
       "    <tr>\n",
       "      <th>mean fractal dimension</th>\n",
       "      <td>0.062798</td>\n",
       "      <td>0.007060</td>\n",
       "    </tr>\n",
       "    <tr>\n",
       "      <th>radius error</th>\n",
       "      <td>0.405172</td>\n",
       "      <td>0.277313</td>\n",
       "    </tr>\n",
       "    <tr>\n",
       "      <th>texture error</th>\n",
       "      <td>1.216853</td>\n",
       "      <td>0.551648</td>\n",
       "    </tr>\n",
       "    <tr>\n",
       "      <th>perimeter error</th>\n",
       "      <td>2.866059</td>\n",
       "      <td>2.021855</td>\n",
       "    </tr>\n",
       "    <tr>\n",
       "      <th>area error</th>\n",
       "      <td>40.337079</td>\n",
       "      <td>45.491006</td>\n",
       "    </tr>\n",
       "    <tr>\n",
       "      <th>smoothness error</th>\n",
       "      <td>0.007041</td>\n",
       "      <td>0.003003</td>\n",
       "    </tr>\n",
       "  </tbody>\n",
       "</table>\n",
       "</div>"
      ],
      "text/plain": [
       "                              mean         std\n",
       "mean radius              14.127292    3.524049\n",
       "mean texture             19.289649    4.301036\n",
       "mean perimeter           91.969033   24.298981\n",
       "mean area               654.889104  351.914129\n",
       "mean smoothness           0.096360    0.014064\n",
       "mean compactness          0.104341    0.052813\n",
       "mean concavity            0.088799    0.079720\n",
       "mean concave points       0.048919    0.038803\n",
       "mean symmetry             0.181162    0.027414\n",
       "mean fractal dimension    0.062798    0.007060\n",
       "radius error              0.405172    0.277313\n",
       "texture error             1.216853    0.551648\n",
       "perimeter error           2.866059    2.021855\n",
       "area error               40.337079   45.491006\n",
       "smoothness error          0.007041    0.003003"
      ]
     },
     "execution_count": 4,
     "metadata": {},
     "output_type": "execute_result"
    }
   ],
   "source": [
    "# This dataframe has many columns and few rows, so many columns that all of them cannot be displayed.\n",
    "# For dataframes like this, it can be helpful to transpose them (turn rows into columns and columns into rows).\n",
    "# To do this we can call transpose() on the dataframe, or .T for short.\n",
    "# Print out the transposed version of the results of the .agg() from above.\n",
    "df.agg(['mean', 'std']).T"
   ]
  },
  {
   "cell_type": "markdown",
   "metadata": {},
   "source": [
    "### Scale the Data"
   ]
  },
  {
   "cell_type": "code",
   "execution_count": 5,
   "metadata": {},
   "outputs": [
    {
     "data": {
      "text/html": [
       "<div>\n",
       "<style scoped>\n",
       "    .dataframe tbody tr th:only-of-type {\n",
       "        vertical-align: middle;\n",
       "    }\n",
       "\n",
       "    .dataframe tbody tr th {\n",
       "        vertical-align: top;\n",
       "    }\n",
       "\n",
       "    .dataframe thead th {\n",
       "        text-align: right;\n",
       "    }\n",
       "</style>\n",
       "<table border=\"1\" class=\"dataframe\">\n",
       "  <thead>\n",
       "    <tr style=\"text-align: right;\">\n",
       "      <th></th>\n",
       "      <th>mean</th>\n",
       "      <th>std</th>\n",
       "    </tr>\n",
       "  </thead>\n",
       "  <tbody>\n",
       "    <tr>\n",
       "      <th>mean radius</th>\n",
       "      <td>-3.153111e-15</td>\n",
       "      <td>1.00088</td>\n",
       "    </tr>\n",
       "    <tr>\n",
       "      <th>mean texture</th>\n",
       "      <td>-6.568462e-15</td>\n",
       "      <td>1.00088</td>\n",
       "    </tr>\n",
       "    <tr>\n",
       "      <th>mean perimeter</th>\n",
       "      <td>-6.993039e-16</td>\n",
       "      <td>1.00088</td>\n",
       "    </tr>\n",
       "    <tr>\n",
       "      <th>mean area</th>\n",
       "      <td>-8.553985e-16</td>\n",
       "      <td>1.00088</td>\n",
       "    </tr>\n",
       "    <tr>\n",
       "      <th>mean smoothness</th>\n",
       "      <td>6.081447e-15</td>\n",
       "      <td>1.00088</td>\n",
       "    </tr>\n",
       "    <tr>\n",
       "      <th>mean compactness</th>\n",
       "      <td>-1.136369e-15</td>\n",
       "      <td>1.00088</td>\n",
       "    </tr>\n",
       "    <tr>\n",
       "      <th>mean concavity</th>\n",
       "      <td>-2.997017e-16</td>\n",
       "      <td>1.00088</td>\n",
       "    </tr>\n",
       "    <tr>\n",
       "      <th>mean concave points</th>\n",
       "      <td>1.023981e-15</td>\n",
       "      <td>1.00088</td>\n",
       "    </tr>\n",
       "    <tr>\n",
       "      <th>mean symmetry</th>\n",
       "      <td>-1.860648e-15</td>\n",
       "      <td>1.00088</td>\n",
       "    </tr>\n",
       "    <tr>\n",
       "      <th>mean fractal dimension</th>\n",
       "      <td>-1.504752e-15</td>\n",
       "      <td>1.00088</td>\n",
       "    </tr>\n",
       "    <tr>\n",
       "      <th>radius error</th>\n",
       "      <td>-9.740305e-16</td>\n",
       "      <td>1.00088</td>\n",
       "    </tr>\n",
       "    <tr>\n",
       "      <th>texture error</th>\n",
       "      <td>-9.084707e-16</td>\n",
       "      <td>1.00088</td>\n",
       "    </tr>\n",
       "    <tr>\n",
       "      <th>perimeter error</th>\n",
       "      <td>1.860648e-15</td>\n",
       "      <td>1.00088</td>\n",
       "    </tr>\n",
       "    <tr>\n",
       "      <th>area error</th>\n",
       "      <td>-7.679856e-16</td>\n",
       "      <td>1.00088</td>\n",
       "    </tr>\n",
       "    <tr>\n",
       "      <th>smoothness error</th>\n",
       "      <td>-7.352057e-16</td>\n",
       "      <td>1.00088</td>\n",
       "    </tr>\n",
       "  </tbody>\n",
       "</table>\n",
       "</div>"
      ],
      "text/plain": [
       "                                mean      std\n",
       "mean radius            -3.153111e-15  1.00088\n",
       "mean texture           -6.568462e-15  1.00088\n",
       "mean perimeter         -6.993039e-16  1.00088\n",
       "mean area              -8.553985e-16  1.00088\n",
       "mean smoothness         6.081447e-15  1.00088\n",
       "mean compactness       -1.136369e-15  1.00088\n",
       "mean concavity         -2.997017e-16  1.00088\n",
       "mean concave points     1.023981e-15  1.00088\n",
       "mean symmetry          -1.860648e-15  1.00088\n",
       "mean fractal dimension -1.504752e-15  1.00088\n",
       "radius error           -9.740305e-16  1.00088\n",
       "texture error          -9.084707e-16  1.00088\n",
       "perimeter error         1.860648e-15  1.00088\n",
       "area error             -7.679856e-16  1.00088\n",
       "smoothness error       -7.352057e-16  1.00088"
      ]
     },
     "execution_count": 5,
     "metadata": {},
     "output_type": "execute_result"
    }
   ],
   "source": [
    "# Scale the data to mean 0, standard deviation of 1 using sklearn StandardScaler\n",
    "\n",
    "#Import StandardScaler from sklearn\n",
    "from sklearn.preprocessing import StandardScaler\n",
    "\n",
    "# Using StandardScaler with default settings create a new matrix X_scaled that is a scaled version of df.\n",
    "X_scaled = StandardScaler().fit_transform(df)\n",
    "\n",
    "# Store X_scaled as a dataframe df_scaled, with the same column names as the original dataframe\n",
    "df_scaled = pd.DataFrame(X_scaled, columns=df.columns)\n",
    "\n",
    "# Call .agg() on df_scaled using 'mean' and 'std' and display the transpose using .T\n",
    "# Note that all features have been scaled\n",
    "df_scaled.agg(['mean', 'std']).T"
   ]
  },
  {
   "cell_type": "markdown",
   "metadata": {},
   "source": [
    "### Plot the First 2 Features From the Scaled Dataset"
   ]
  },
  {
   "cell_type": "code",
   "execution_count": 6,
   "metadata": {},
   "outputs": [
    {
     "data": {
      "text/plain": [
       "Text(0.5, 1.0, 'First Two Features of Dataset')"
      ]
     },
     "execution_count": 6,
     "metadata": {},
     "output_type": "execute_result"
    },
    {
     "data": {
      "image/png": "[encoded data removed]",
      "text/plain": [
       "<Figure size 432x288 with 1 Axes>"
      ]
     },
     "metadata": {
      "needs_background": "light"
     },
     "output_type": "display_data"
    }
   ],
   "source": [
    "# Using seaborn, create a scatterplot with 'mean radius' on the x-axis and 'mean texture' on the y-axis.\n",
    "# Use the scaled data in df_scaled.\n",
    "# Color the points by their class assignment by setting hue=cancer.target.\n",
    "# Capture the returned axis in ax\n",
    "ax = sns.scatterplot(x='mean radius', y='mean texture', data=df_scaled, hue=cancer.target)\n",
    "\n",
    "# Set the title to 'First Two Features of Dataset' using ax\n",
    "ax.set_title('First Two Features of Dataset')"
   ]
  },
  {
   "cell_type": "markdown",
   "metadata": {},
   "source": [
    "### Reduce Data to 2 Dimensions Using PCA"
   ]
  },
  {
   "cell_type": "code",
   "execution_count": 7,
   "metadata": {},
   "outputs": [],
   "source": [
    "# Import PCA from sklearn.\n",
    "from sklearn.decomposition import PCA\n",
    "\n",
    "# Create a 2D transformation of the dataframe df_scaled using PCA() and fit_transform() and store in X_pca.\n",
    "X_pca = PCA(n_components=2).fit_transform(df_scaled)\n",
    "\n",
    "# Assert that the pca representation has the same number of rows (569) but now 2 columns\n",
    "assert X_pca.shape == (569,2)"
   ]
  },
  {
   "cell_type": "markdown",
   "metadata": {},
   "source": [
    "### Plot the Reduced Representation"
   ]
  },
  {
   "cell_type": "code",
   "execution_count": 8,
   "metadata": {},
   "outputs": [
    {
     "data": {
      "text/plain": [
       "Text(0.5, 1.0, '2D PCA')"
      ]
     },
     "execution_count": 8,
     "metadata": {},
     "output_type": "execute_result"
    },
    {
     "data": {
      "image/png": "[encoded data removed]",
      "text/plain": [
       "<Figure size 432x288 with 1 Axes>"
      ]
     },
     "metadata": {
      "needs_background": "light"
     },
     "output_type": "display_data"
    }
   ],
   "source": [
    "# Using seaborn, create a scatterplot with the first column of X_pca on the x-axis\n",
    "#    and the second column of X_pca on the y-axis.\n",
    "# Color the points by their class assignment by setting hue as cancer.target.\n",
    "# Capture the returned axis in ax\n",
    "ax = sns.scatterplot(x=X_pca[:,0], y=X_pca[:,1], hue=cancer.target)\n",
    "\n",
    "# Set the title to '2D PCA' using ax\n",
    "ax.set_title('2D PCA')\n",
    "\n",
    "# Note that the plot won't look significantly different, but there should be more than just \n",
    "# a rotation of the points seen in the plot above of the first 2 dimensions of the dataset"
   ]
  }
 ],
 "metadata": {
  "kernelspec": {
   "display_name": "eods-f21",
   "language": "python",
   "name": "eods-f21"
  },
  "language_info": {
   "codemirror_mode": {
    "name": "ipython",
    "version": 3
   },
   "file_extension": ".py",
   "mimetype": "text/x-python",
   "name": "python",
   "nbconvert_exporter": "python",
   "pygments_lexer": "ipython3",
   "version": "3.8.10"
  }
 },
 "nbformat": 4,
 "nbformat_minor": 2
}
