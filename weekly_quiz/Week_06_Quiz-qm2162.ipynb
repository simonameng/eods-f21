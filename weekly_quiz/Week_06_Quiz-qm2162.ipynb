{
 "cells": [
  {
   "cell_type": "markdown",
   "metadata": {},
   "source": [
    "# Week 6 Quiz\n",
    "\n",
    "## Qi Meng - qm2162\n",
    "\n",
    "### Due Sunday Oct 24 11:59pm ET"
   ]
  },
  {
   "cell_type": "markdown",
   "metadata": {},
   "source": [
    "In this quiz we'll be loading some data, training a few models and plotting their decision boundaries to compare how the models perform."
   ]
  },
  {
   "cell_type": "code",
   "execution_count": 1,
   "metadata": {},
   "outputs": [],
   "source": [
    "import pandas as pd\n",
    "import numpy as np\n",
    "import matplotlib.pyplot as plt\n",
    "import seaborn as sns\n",
    "\n",
    "from sklearn import datasets\n",
    "from mlxtend.plotting import plot_decision_regions\n",
    "\n",
    "sns.set_style('darkgrid')\n",
    "%matplotlib inline"
   ]
  },
  {
   "cell_type": "code",
   "execution_count": 2,
   "metadata": {},
   "outputs": [],
   "source": [
    "# For this quiz we'll be using the \"iris\" dataset, a very common dataset seen \n",
    "# when learning about classification.\n",
    "\n",
    "# Using sklearn.datasets, load the dataset into iris \n",
    "iris = datasets.load_iris()"
   ]
  },
  {
   "cell_type": "code",
   "execution_count": 3,
   "metadata": {},
   "outputs": [
    {
     "data": {
      "text/plain": [
       "0    50\n",
       "1    50\n",
       "2    50\n",
       "dtype: int64"
      ]
     },
     "execution_count": 3,
     "metadata": {},
     "output_type": "execute_result"
    }
   ],
   "source": [
    "# As we've seen in other datasets loaded from sklearn, the data is contained in\n",
    "# iris.data and feature names in iris.feature_names.\n",
    "# Create a new pd.DataFrame X_iris that contains iris.data\n",
    "#    with columns=iris.feature_names\n",
    "X_iris = pd.DataFrame(iris.data, columns=iris.feature_names)\n",
    "\n",
    "# In order to make the data easier to plot, keep only the first 2 features:\n",
    "#   \"sepal length (cm)\",\"sepal width (cm)\"\n",
    "# Store back into X_iris\n",
    "X_iris = X_iris.iloc[:,:2]\n",
    "\n",
    "# We'll check to make sure that X_iris only has 2 columns\n",
    "assert X_iris.shape == (150,2)\n",
    "\n",
    "# The target/label is contained in iris.target.\n",
    "# Create a pd.Series y_iris containing iris.target.\n",
    "y_iris = pd.Series(iris.target)\n",
    "\n",
    "# Print out the number of rows per label.\n",
    "# Note that this is a multiclass problem (3 classes)\n",
    "#   each with 50 observations\n",
    "y_iris.value_counts()"
   ]
  },
  {
   "cell_type": "code",
   "execution_count": 4,
   "metadata": {},
   "outputs": [
    {
     "data": {
      "text/plain": [
       "<AxesSubplot:>"
      ]
     },
     "execution_count": 4,
     "metadata": {},
     "output_type": "execute_result"
    },
    {
     "data": {
      "image/png": "[encoded data removed]",
      "text/plain": [
       "<Figure size 432x288 with 1 Axes>"
      ]
     },
     "metadata": {
      "needs_background": "light"
     },
     "output_type": "display_data"
    }
   ],
   "source": [
    "# Import LogisticRegression from sklearn.linear_model\n",
    "from sklearn.linear_model import LogisticRegression\n",
    "\n",
    "# Instantiate the LogisticRegression model with default settings\n",
    "#   and fit on X_iris and y_iris\n",
    "# Store in logreg\n",
    "logreg = LogisticRegression()\n",
    "logreg.fit(X_iris, y_iris)\n",
    "\n",
    "# Plot the training set and trained classifier with \n",
    "#   plot_decision_regions() which takes numpy arrays\n",
    "#   so use X_iris.values, y_iris.values\n",
    "plot_decision_regions(X_iris.values, y_iris.values, logreg)"
   ]
  },
  {
   "cell_type": "code",
   "execution_count": 9,
   "metadata": {},
   "outputs": [
    {
     "data": {
      "text/plain": [
       "0      0\n",
       "1      0\n",
       "2      0\n",
       "3      0\n",
       "4      0\n",
       "      ..\n",
       "145    2\n",
       "146    2\n",
       "147    2\n",
       "148    2\n",
       "149    2\n",
       "Length: 150, dtype: int64"
      ]
     },
     "execution_count": 9,
     "metadata": {},
     "output_type": "execute_result"
    }
   ],
   "source": [
    "y_iris"
   ]
  },
  {
   "cell_type": "code",
   "execution_count": 17,
   "metadata": {},
   "outputs": [],
   "source": [
    "X_iris = pd.DataFrame([[2, 9], [9, 2], [7, 5], [6, 3], [7, 6]],\n",
    "                     columns = ['feature1', 'feature2'])\n",
    "y_iris = pd.Series([0, 1, 1, 1, 0])"
   ]
  },
  {
   "cell_type": "code",
   "execution_count": 22,
   "metadata": {},
   "outputs": [
    {
     "data": {
      "text/plain": [
       "array([1, 0, 1, 1, 1, 1])"
      ]
     },
     "execution_count": 22,
     "metadata": {},
     "output_type": "execute_result"
    }
   ],
   "source": [
    "# Import KNeighborsClassifier from sklearn.neighbors\n",
    "from sklearn.neighbors import KNeighborsClassifier\n",
    "\n",
    "# Instantiate the KNeighborsClassifier model with default settings\n",
    "#   and fit on X_iris and y_iris\n",
    "# Store in knn\n",
    "knn = KNeighborsClassifier(n_neighbors=3)\n",
    "knn.fit(X_iris, y_iris)\n",
    "X = pd.DataFrame([[5, 5], [2, 9], [9, 2], [7, 5], [6, 3], [7, 6]],\n",
    "                     columns = ['feature1', 'feature2'])\n",
    "knn.predict(X)\n",
    "# Plot the training set and trained classifier with plot_decision_regions()\n",
    "#plot_decision_regions(X_iris.values, y_iris.values, knn)"
   ]
  },
  {
   "cell_type": "code",
   "execution_count": 6,
   "metadata": {},
   "outputs": [
    {
     "data": {
      "text/plain": [
       "<AxesSubplot:>"
      ]
     },
     "execution_count": 6,
     "metadata": {},
     "output_type": "execute_result"
    },
    {
     "data": {
      "image/png": "[encoded data removed]",
      "text/plain": [
       "<Figure size 432x288 with 1 Axes>"
      ]
     },
     "metadata": {
      "needs_background": "light"
     },
     "output_type": "display_data"
    }
   ],
   "source": [
    "# Import GradientBoostingClassifier from sklearn.ensemble\n",
    "from sklearn.ensemble import GradientBoostingClassifier\n",
    "\n",
    "# Instantiate the GradientBoostingClassifier with default settings\n",
    "#   and fit on X_iris and y_iris\n",
    "# Store in gbc\n",
    "gbc = GradientBoostingClassifier()\n",
    "gbc.fit(X_iris, y_iris)\n",
    "\n",
    "# Plot the training set and trained classifier with plot_decision_regions()\n",
    "plot_decision_regions(X_iris.values, y_iris.values, gbc)"
   ]
  }
 ],
 "metadata": {
  "kernelspec": {
   "display_name": "eods-f21",
   "language": "python",
   "name": "eods-f21"
  },
  "language_info": {
   "codemirror_mode": {
    "name": "ipython",
    "version": 3
   },
   "file_extension": ".py",
   "mimetype": "text/x-python",
   "name": "python",
   "nbconvert_exporter": "python",
   "pygments_lexer": "ipython3",
   "version": "3.8.10"
  }
 },
 "nbformat": 4,
 "nbformat_minor": 4
}
